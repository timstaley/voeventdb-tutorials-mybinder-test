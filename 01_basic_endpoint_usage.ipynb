{
 "cells": [
  {
   "cell_type": "markdown",
   "metadata": {},
   "source": [
    "**\n",
    "This notebook covers the basics of working with voeventdb.remote, demonstrating simple endpoint calls and the data-structures they return.\n",
    "**\n",
    "\n",
    "(It also includes a few tips on using IPython's autocomplete functionality, for newcomers to IPython / Jupyter Notebooks.)"
   ]
  },
  {
   "cell_type": "markdown",
   "metadata": {},
   "source": [
    "First, let's set up logging - by switching on 'DEBUG' level logging, we get to see the HTTP requests that are being made behind the scenes every time you run a query using voeventdb.remote. (NB we'll be using the Python-3 style print operator.)"
   ]
  },
  {
   "cell_type": "code",
   "execution_count": null,
   "metadata": {
    "collapsed": true
   },
   "outputs": [],
   "source": [
    "from __future__ import print_function\n",
    "import logging\n",
    "logger = logging.getLogger()\n",
    "logger.setLevel(logging.DEBUG)"
   ]
  },
  {
   "cell_type": "markdown",
   "metadata": {},
   "source": [
    "Next, library imports: Most of the user-facing code lives in ``voeventdb.remote.apiv1``, but we'll also alias ``voeventdb.remote`` to the shorthand ``vr``:"
   ]
  },
  {
   "cell_type": "code",
   "execution_count": null,
   "metadata": {
    "collapsed": true
   },
   "outputs": [],
   "source": [
    "import voeventdb.remote as vr\n",
    "import voeventdb.remote.apiv1 as apiv1"
   ]
  },
  {
   "cell_type": "markdown",
   "metadata": {},
   "source": [
    "----------\n",
    "### Aside: Autocompletion tricks\n",
    "For those new to IPython / notebooks: note you can use tab-completion to help you explore / save on typing (as long as you've already imported the relevant packages). For example, type:\n",
    "\n",
    "    apiv1.\n",
    "\n",
    "in a notebook code-cell or IPython terminal and then hit **Tab** to see your available options. Likewise, in notebooks you can position your cursor on a function and hit **Shift+Tab** to see a summary of function arguments, etc.\n",
    "\n",
    "------------"
   ]
  },
  {
   "cell_type": "markdown",
   "metadata": {},
   "source": [
    "There are a couple of variables living in the top-level ``voeventdb.remote`` module; for example the ``default_host``. You can set this to avoid specifying a host for every query. By default it's set to point at the [4PiSky](http://4pisky.org/voevent) server:"
   ]
  },
  {
   "cell_type": "code",
   "execution_count": null,
   "metadata": {
    "collapsed": false
   },
   "outputs": [],
   "source": [
    "# For testing against a local-dev server:\n",
    "# vr.default_host = 'http://localhost:5000'\n",
    "print(vr.default_host)"
   ]
  },
  {
   "cell_type": "markdown",
   "metadata": {},
   "source": [
    "OK, let's query the database. We use different HTTP addresses, called \n",
    "[endpoints](http://voeventdb.4pisky.org/docs/apiv1/howto.html#finding-and-using-endpoints), to give us different summaries or subsets of the database.\n",
    "We'll start off by using ``apiv1.count`` to find out how many packets are stored in this database - if it's empty, any other queries won't do us much good:"
   ]
  },
  {
   "cell_type": "code",
   "execution_count": null,
   "metadata": {
    "collapsed": false
   },
   "outputs": [],
   "source": [
    "apiv1.count()"
   ]
  },
  {
   "cell_type": "markdown",
   "metadata": {},
   "source": [
    "Getting on for a million packets, that's quite lot! So there's plenty here for us to work with. "
   ]
  },
  {
   "cell_type": "markdown",
   "metadata": {},
   "source": [
    "## IVORN's and single-packet details\n",
    "\n",
    "Next let's try ``apiv1.list_ivorn``, which returns a list of \n",
    "[IVORN's](http://voevent.readthedocs.org/en/latest/reading.html#ivorns-and-identifiers), unique idenitifiers which represent a VOEvent packet, analogous to how a URL represents a web-page."
   ]
  },
  {
   "cell_type": "code",
   "execution_count": null,
   "metadata": {
    "collapsed": false
   },
   "outputs": [],
   "source": [
    "ivorn_list = apiv1.list_ivorn()\n",
    "len(ivorn_list)"
   ]
  },
  {
   "cell_type": "code",
   "execution_count": null,
   "metadata": {
    "collapsed": false
   },
   "outputs": [],
   "source": [
    "#Take a look at the first 10\n",
    "ivorn_list[:10]"
   ]
  },
  {
   "cell_type": "markdown",
   "metadata": {},
   "source": [
    "We got back a list of IVORN's as expected - but only 5000 of them, not a million. By default, voeventdb.remote applies a limit to the maximum number of entries returned by a list query, as defined in ``default_list_n_max``:"
   ]
  },
  {
   "cell_type": "code",
   "execution_count": null,
   "metadata": {
    "collapsed": false
   },
   "outputs": [],
   "source": [
    "print(vr.default_list_n_max)"
   ]
  },
  {
   "cell_type": "markdown",
   "metadata": {},
   "source": [
    "You can override this, or set it to ``0`` to simply fetch all matching results (though this can take a while)."
   ]
  },
  {
   "cell_type": "code",
   "execution_count": null,
   "metadata": {
    "collapsed": false
   },
   "outputs": [],
   "source": [
    "## How to override the default:\n",
    "# vr.default_list_n_max = 2500\n",
    "## Set n_max for a single query:\n",
    "short_list = apiv1.list_ivorn(n_max=50)"
   ]
  },
  {
   "cell_type": "markdown",
   "metadata": {},
   "source": [
    "If we know the IVORN of a packet, we can look up some details using the ``apiv1.packet_synopsis`` endpoint:"
   ]
  },
  {
   "cell_type": "code",
   "execution_count": null,
   "metadata": {
    "collapsed": false
   },
   "outputs": [],
   "source": [
    "ivorn = ivorn_list[0]\n",
    "apiv1.packet_synopsis(ivorn)"
   ]
  },
  {
   "cell_type": "markdown",
   "metadata": {},
   "source": [
    "And we can even retrieve the raw XML, (i.e. the original packet), so we can pull out any data specific to a given observatory, etc:"
   ]
  },
  {
   "cell_type": "code",
   "execution_count": null,
   "metadata": {
    "collapsed": false
   },
   "outputs": [],
   "source": [
    "xml = apiv1.packet_xml(ivorn)"
   ]
  },
  {
   "cell_type": "markdown",
   "metadata": {},
   "source": [
    "A convenient way to inspect the xml-data is to use the [voevent-parse](http://voevent-parse.readthedocs.org/) library (which even has its very own [tutorial](https://github.com/timstaley/voevent-parse-tutorial))."
   ]
  },
  {
   "cell_type": "code",
   "execution_count": null,
   "metadata": {
    "collapsed": true
   },
   "outputs": [],
   "source": [
    "## A brief example, see the voevent-parse tutorial for more\n",
    "# import voeventparse as vp\n",
    "# voe_tree = vp.loads(xml)\n",
    "# vp.pull_params(voe_tree)"
   ]
  },
  {
   "cell_type": "markdown",
   "metadata": {},
   "source": [
    "## Summary endpoints\n",
    "\n",
    "So we can view individual packet IVORNS, and look up packet details, but that's very fine-grained information - we don't want to wade through all of them to figure out what's in the database. We can use 'summary' endpoints to give us a higher-level overview. \n",
    "For example, we can organise VOEvents by 'streams' - basically the bit of the IVORN between the `ivo://` prefix and the `#` symbol. The ``apiv1.map_stream_count`` endpoint tells us how many VOEvent packets belong to each stream:"
   ]
  },
  {
   "cell_type": "code",
   "execution_count": null,
   "metadata": {
    "collapsed": false
   },
   "outputs": [],
   "source": [
    "apiv1.map_stream_count()"
   ]
  },
  {
   "cell_type": "markdown",
   "metadata": {},
   "source": [
    "Alternatively, we can slice up the packets by the authoring timestamp, binning by calendar month:"
   ]
  },
  {
   "cell_type": "code",
   "execution_count": null,
   "metadata": {
    "collapsed": false
   },
   "outputs": [],
   "source": [
    "apiv1.map_authored_month_count()"
   ]
  },
  {
   "cell_type": "markdown",
   "metadata": {},
   "source": [
    "Or, we can divide them up by assigned [role](http://voevent.readthedocs.org/en/latest/reading.html#event-roles),\n",
    "which comes in three flavours:"
   ]
  },
  {
   "cell_type": "code",
   "execution_count": null,
   "metadata": {
    "collapsed": false
   },
   "outputs": [],
   "source": [
    "apiv1.map_role_count()"
   ]
  },
  {
   "cell_type": "markdown",
   "metadata": {},
   "source": [
    "Similarly, ``apiv1.map_stream_role_count`` gives a breakdown of how many packets belong to each role, listed by stream."
   ]
  },
  {
   "cell_type": "markdown",
   "metadata": {},
   "source": [
    "## Coming next ...\n",
    "So now that we have an idea of what's in the database, how do we choose a category and drill-down to select specific VOEvents? For that we need filters, which are covered in tutorial 2."
   ]
  }
 ],
 "metadata": {
  "kernelspec": {
   "display_name": "Python 2",
   "language": "python",
   "name": "python2"
  },
  "language_info": {
   "codemirror_mode": {
    "name": "ipython",
    "version": 2
   },
   "file_extension": ".py",
   "mimetype": "text/x-python",
   "name": "python",
   "nbconvert_exporter": "python",
   "pygments_lexer": "ipython2",
   "version": "2.7.6"
  }
 },
 "nbformat": 4,
 "nbformat_minor": 0
}