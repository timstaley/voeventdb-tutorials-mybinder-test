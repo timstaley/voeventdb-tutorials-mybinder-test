{
 "cells": [
  {
   "cell_type": "markdown",
   "metadata": {},
   "source": [
    "We previously covered the basics of using data-endpoints with voeventdb.remote in tutorial 1. \n",
    "\n",
    "**\n",
    "This notebook demonstrates use of filters to narrow down your query, and introduces a few convenient 'helper classes' for handling nested data-structures.\n",
    "**"
   ]
  },
  {
   "cell_type": "markdown",
   "metadata": {},
   "source": [
    "As before, we'll switch on 'DEBUG' level logging, to see the the HTTP requests go whizzing by."
   ]
  },
  {
   "cell_type": "code",
   "execution_count": null,
   "metadata": {
    "collapsed": true
   },
   "outputs": [],
   "source": [
    "from __future__ import print_function\n",
    "import logging\n",
    "logger = logging.getLogger()\n",
    "logger.setLevel(logging.DEBUG)"
   ]
  },
  {
   "cell_type": "code",
   "execution_count": null,
   "metadata": {
    "collapsed": true
   },
   "outputs": [],
   "source": [
    "import voeventdb.remote as vr\n",
    "import voeventdb.remote.apiv1 as apiv1"
   ]
  },
  {
   "cell_type": "markdown",
   "metadata": {},
   "source": [
    "We've already briefly looked at the ``map_stream_count`` endpoint, and mentioned how VOEvents come in three flavours of [role](http://voevent.readthedocs.org/en/latest/reading.html#event-roles), 'observation', 'utility', and 'test'.\n",
    "Let's remind ourselves what the default map_stream_count output looks like:"
   ]
  },
  {
   "cell_type": "code",
   "execution_count": null,
   "metadata": {
    "collapsed": true
   },
   "outputs": [],
   "source": [
    "apiv1.map_stream_count()"
   ]
  },
  {
   "cell_type": "markdown",
   "metadata": {},
   "source": [
    "## Using filters\n",
    "\n",
    "Quite obviously, a number of those streams are 'junk', they contain only test-packets used to verify that the VOEvent infrastructure is up and working correctly. For scientific work, we'll want to filter those out. \n",
    "\n",
    "Fortunately, we can ask the voeventdb server to do the filtering work for us. The voeventdb.remote library comes with an easy-to-use list of filters, stored as \n",
    "[``voeventdb.remote.apiv1.FilterKeys``](http://voeventdbremote.readthedocs.org/en/latest/reference/index.html#voeventdb.remote.apiv1.FilterKeys). \n",
    "To see what's available at a glance you can use the IPython tab-completion and doc-lookup tools, as in the cell below.\n",
    "\n",
    "Full definitions of the filter-keys (and example filter-values) can be found [in the voeventdb server docs](http://voeventdb.readthedocs.org/en/latest/apiv1/queryfilters.html#apiv1-filters), but we'll cover most of them in these tutorial notebooks - read on."
   ]
  },
  {
   "cell_type": "code",
   "execution_count": null,
   "metadata": {
    "collapsed": true
   },
   "outputs": [],
   "source": [
    "#Alias voeventdb.remote.apiv1.FilterKeys to just 'FilterKeys', for brevity\n",
    "from voeventdb.remote.apiv1 import FilterKeys"
   ]
  },
  {
   "cell_type": "code",
   "execution_count": null,
   "metadata": {
    "collapsed": true
   },
   "outputs": [],
   "source": [
    "## To see the list of filters, you can use tab-completion:\n",
    "## (Uncomment the following line and try it for yourself)\n",
    "# FilterKeys.\n",
    "## Or the ipython doc-lookup magic, by prefixing with ``??`` and running the cell:\n",
    "# ??FilterKeys"
   ]
  },
  {
   "cell_type": "markdown",
   "metadata": {},
   "source": [
    "### Filtering by role\n",
    "So: we were trying to filter out the test-packets. ``FilterKeys.role`` sounds promising. To apply a filter, or multiple filters, we simply define a dictionary with the filters we want to apply, and then pass it to the relevant query-function, like this:"
   ]
  },
  {
   "cell_type": "code",
   "execution_count": null,
   "metadata": {
    "collapsed": true
   },
   "outputs": [],
   "source": [
    "my_filters = { FilterKeys.role: 'observation' }"
   ]
  },
  {
   "cell_type": "code",
   "execution_count": null,
   "metadata": {
    "collapsed": true
   },
   "outputs": [],
   "source": [
    "apiv1.map_stream_count(my_filters)"
   ]
  },
  {
   "cell_type": "markdown",
   "metadata": {},
   "source": [
    "### Filtering by date\n",
    "That results in a much shorter list, containing only scientifically interesting streams. Still, those numbers are pretty large (mainly for *Swift*). It might be useful to get a smaller representative sample. How many packets will we get if we limit our query to a single week?"
   ]
  },
  {
   "cell_type": "code",
   "execution_count": null,
   "metadata": {
    "collapsed": true
   },
   "outputs": [],
   "source": [
    "from datetime import datetime, timedelta\n",
    "import pytz\n",
    "start_date = datetime(2015,12,1,tzinfo=pytz.UTC)\n",
    "my_filters = { \n",
    "    FilterKeys.role: 'observation',\n",
    "    FilterKeys.authored_since: start_date,\n",
    "    FilterKeys.authored_until: start_date + timedelta(days=7)\n",
    "    }\n",
    "my_filters"
   ]
  },
  {
   "cell_type": "code",
   "execution_count": null,
   "metadata": {
    "collapsed": true
   },
   "outputs": [],
   "source": [
    "apiv1.map_stream_count(my_filters)"
   ]
  },
  {
   "cell_type": "markdown",
   "metadata": {},
   "source": [
    "### Filtering by stream\n",
    "Ok, so there's still a lot of *Swift* packets there. Let's take a look at a sample of those, and see if we can break them up further. First, lets add another filter to limit our query to just *Swift* packets."
   ]
  },
  {
   "cell_type": "code",
   "execution_count": null,
   "metadata": {
    "collapsed": true
   },
   "outputs": [],
   "source": [
    "my_filters[FilterKeys.stream] = 'nasa.gsfc.gcn/SWIFT'\n",
    "my_filters"
   ]
  },
  {
   "cell_type": "markdown",
   "metadata": {},
   "source": [
    "So now if we apply the filters to ``map_stream_count``, we only get back one entry (the *Swift* stream):"
   ]
  },
  {
   "cell_type": "code",
   "execution_count": null,
   "metadata": {
    "collapsed": true
   },
   "outputs": [],
   "source": [
    "apiv1.map_stream_count(filters=my_filters)"
   ]
  },
  {
   "cell_type": "markdown",
   "metadata": {},
   "source": [
    "### Filters can be used across different query-endpoints\n",
    "Not particularly helpful, but at least everything is working as expected. Now, the neat thing about the voeventdb filters is that they can be applied to **any** query-endpoint - we can just re-use the filter-dictionary with the ``apiv1.list_ivorn`` function to get back a list of IVORNs:"
   ]
  },
  {
   "cell_type": "code",
   "execution_count": null,
   "metadata": {
    "collapsed": true
   },
   "outputs": [],
   "source": [
    "swift_ivorns = apiv1.list_ivorn(filters=my_filters)\n",
    "print(\"Retrieved\",len(swift_ivorns),\"IVORNs\")\n",
    "#Show just the first 10\n",
    "swift_ivorns[:10]"
   ]
  },
  {
   "cell_type": "markdown",
   "metadata": {},
   "source": [
    "That's a long list, but there's clearly a pattern to how the Swift IVORNs are formatted. We'll use a little Python trickery \n",
    "(cf [set](https://docs.python.org/2/library/stdtypes.html#set), \n",
    "[str.rsplit](https://docs.python.org/2/library/string.html#string.rsplit))\n",
    "to chop off the trailing ID numbers and  sort them into sub-categories:"
   ]
  },
  {
   "cell_type": "code",
   "execution_count": null,
   "metadata": {
    "collapsed": true
   },
   "outputs": [],
   "source": [
    "swift_categories = set(ivorn.rsplit('_',1)[0] for ivorn in swift_ivorns)\n",
    "swift_categories"
   ]
  },
  {
   "cell_type": "markdown",
   "metadata": {},
   "source": [
    "Now we're getting somewhere! We can clearly see the subcategories of Swift packets - BAT alerts, XRT positions, UVOT followup, etc. \n",
    "\n",
    "### Filtering by IVORN substring\n",
    "\n",
    "We can use this knowledge to refine our filters, by filtering on a *substring* of the IVORN, using the ``ivorn_contains`` filter. For example, we might want to filter to just those IVORNs containing XRT positions (**note this filter is case-sensitive**):"
   ]
  },
  {
   "cell_type": "code",
   "execution_count": null,
   "metadata": {
    "collapsed": true
   },
   "outputs": [],
   "source": [
    "my_filters[FilterKeys.ivorn_contains] = 'XRT_Pos'\n",
    "my_filters"
   ]
  },
  {
   "cell_type": "code",
   "execution_count": null,
   "metadata": {
    "collapsed": true
   },
   "outputs": [],
   "source": [
    "xrt_pos_ivorns = apiv1.list_ivorn(filters=my_filters)\n",
    "print(\"Retrieved\",len(xrt_pos_ivorns),\"IVORNs\")\n",
    "xrt_pos_ivorns"
   ]
  },
  {
   "cell_type": "markdown",
   "metadata": {},
   "source": [
    "As in tutorial 1, we can inspect the details of any given packet using the ``packet_synopsis`` endpoint - we'll take a look at the first one. This packet makes a good example, as it includes details of the event co-ordinates and timestamp, and also references an earlier VOEvent:"
   ]
  },
  {
   "cell_type": "code",
   "execution_count": null,
   "metadata": {
    "collapsed": true
   },
   "outputs": [],
   "source": [
    "synopsis_dict = apiv1.packet_synopsis(xrt_pos_ivorns[0])\n",
    "synopsis_dict"
   ]
  },
  {
   "cell_type": "markdown",
   "metadata": {},
   "source": [
    "## Ready-made 'helper' classes for parsing output\n",
    "Nested dictionaries can be kind of a pain to work with. If you want, you can use voeventdb.remote's \n",
    "[``Synopsis``](http://voeventdbremote.readthedocs.org/en/latest/reference/index.html#voeventdb.remote.helpers.Synopsis)\n",
    "'helper' class to parse this into an easy-to use object."
   ]
  },
  {
   "cell_type": "code",
   "execution_count": null,
   "metadata": {
    "collapsed": true
   },
   "outputs": [],
   "source": [
    "from voeventdb.remote.helpers import Synopsis"
   ]
  },
  {
   "cell_type": "code",
   "execution_count": null,
   "metadata": {
    "collapsed": true
   },
   "outputs": [],
   "source": [
    "xrt_synopsis = Synopsis(synopsis_dict)\n",
    "# Prints with nicer formatting, ordering of values:\n",
    "print(xrt_synopsis)"
   ]
  },
  {
   "cell_type": "markdown",
   "metadata": {},
   "source": [
    "Now we can easily access the values (with the ever-handy IPython autocompletion):"
   ]
  },
  {
   "cell_type": "code",
   "execution_count": null,
   "metadata": {
    "collapsed": true
   },
   "outputs": [],
   "source": [
    "xrt_synopsis.author_ivorn"
   ]
  },
  {
   "cell_type": "code",
   "execution_count": null,
   "metadata": {
    "collapsed": true
   },
   "outputs": [],
   "source": [
    "xrt_synopsis.references"
   ]
  },
  {
   "cell_type": "markdown",
   "metadata": {},
   "source": [
    "One of the ``Synopsis`` class attributes is a list called ``sky_events``. \n",
    "Each entry is a [``SkyEvent``](http://voeventdbremote.readthedocs.org/en/latest/reference/index.html#voeventdb.remote.helpers.SkyEvent) \n",
    "class, which reprents a very basic set of information about an observed event: \n",
    " - estimated position,\n",
    " - error circle on the estimated position,\n",
    " - timestamp of the observed event.\n",
    " \n",
    "The position coordinates and error-circle are represented by \n",
    "[``astropy.coordinates``](http://astropy.readthedocs.org/en/stable/coordinates/index.html) classes, which come with a bunch of features related to formatting, distance calculations, frame-of-reference transformations, etc."
   ]
  },
  {
   "cell_type": "code",
   "execution_count": null,
   "metadata": {
    "collapsed": true
   },
   "outputs": [],
   "source": [
    "xrt_synopsis.sky_events"
   ]
  },
  {
   "cell_type": "code",
   "execution_count": null,
   "metadata": {
    "collapsed": true
   },
   "outputs": [],
   "source": [
    "# List of 1, in this case. Grab the first (and only) element:\n",
    "sky_event = xrt_synopsis.sky_events[0]"
   ]
  },
  {
   "cell_type": "code",
   "execution_count": null,
   "metadata": {
    "collapsed": true
   },
   "outputs": [],
   "source": [
    "print(type(sky_event.position))\n",
    "sky_event.position"
   ]
  },
  {
   "cell_type": "code",
   "execution_count": null,
   "metadata": {
    "collapsed": true
   },
   "outputs": [],
   "source": [
    "print(type(sky_event.position_error))\n",
    "sky_event.position_error.deg"
   ]
  },
  {
   "cell_type": "markdown",
   "metadata": {},
   "source": [
    "Astropy coordinates come with all the usual weird and wonderful astronomical formatting options, see the astropy [docs](http://astropy.readthedocs.org/en/stable/coordinates/index.html) for details:"
   ]
  },
  {
   "cell_type": "code",
   "execution_count": null,
   "metadata": {
    "collapsed": true
   },
   "outputs": [],
   "source": [
    "print(sky_event.position.ra.deg)\n",
    "print(sky_event.position.ra.hms)"
   ]
  },
  {
   "cell_type": "markdown",
   "metadata": {},
   "source": [
    "## Advanced usage: specifying multiple values for the same filter\n",
    "Before we move on, it's worth mentioning that some filters can take on multiple values. This is specified by defining the filter-value as a list - for example, to return all VOEvents with a role of 'observation' or 'utility' we can use the following:"
   ]
  },
  {
   "cell_type": "code",
   "execution_count": null,
   "metadata": {
    "collapsed": true
   },
   "outputs": [],
   "source": [
    "my_filters = {apiv1.FilterKeys.role: ['observation','utility']}\n",
    "apiv1.map_stream_count(my_filters)"
   ]
  },
  {
   "cell_type": "markdown",
   "metadata": {},
   "source": [
    "How does this work? Well, we can think of each entry in the list defining a separate filter.\n",
    "For the `role` value, these filters are combined in the logical 'OR' sense, so we get back combined counts for both 'observation' and 'utility' packets. You can check whether a filter accepts multiple values, and if they are combined via logical 'OR' or 'AND', by checking the \n",
    "[filter-definitions page](http://voeventdb.readthedocs.org/en/latest/apiv1/queryfilters.html) and looking for the ``combinator`` attribute. \n",
    "\n",
    "(If this sounds confusing, don't worry - it can safely be ignored unless you're planning to use really tricky queries.)"
   ]
  },
  {
   "cell_type": "markdown",
   "metadata": {},
   "source": [
    "## Coming next ...\n",
    "We've seen how to narrow our search, locate packets of interest, and use helper-classes to easily access packet details. \n",
    "In tutorials 3 & 4, we'll cover different ways of finding *related* VOEvents."
   ]
  }
 ],
 "metadata": {
  "kernelspec": {
   "display_name": "Python 2",
   "language": "python",
   "name": "python2"
  },
  "language_info": {
   "codemirror_mode": {
    "name": "ipython",
    "version": 2
   },
   "file_extension": ".py",
   "mimetype": "text/x-python",
   "name": "python",
   "nbconvert_exporter": "python",
   "pygments_lexer": "ipython2",
   "version": "2.7.6"
  }
 },
 "nbformat": 4,
 "nbformat_minor": 0
}