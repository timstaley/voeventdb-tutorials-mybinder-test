{
 "cells": [
  {
   "cell_type": "markdown",
   "metadata": {},
   "source": [
    "Combined with the API reference docs, this notebook gives an overview of `voeventdb.remote`, for those who are already familiar with Python, VOEvents, and the basic ideas around web-based API usage. A gentler introduction can be found in the rest of the tutorial notebooks."
   ]
  },
  {
   "cell_type": "code",
   "execution_count": null,
   "metadata": {
    "collapsed": true
   },
   "outputs": [],
   "source": [
    "from __future__ import print_function\n",
    "import voeventdb.remote as vr\n",
    "import voeventdb.remote.apiv1 as apiv1\n",
    "from voeventdb.remote.apiv1 import FilterKeys, OrderValues\n",
    "from voeventdb.remote.helpers import Synopsis\n",
    "from datetime import datetime\n",
    "import pytz"
   ]
  },
  {
   "cell_type": "markdown",
   "metadata": {},
   "source": [
    "In `voeventdb.remote` endpoints are represented by functions, and can be found under the `apiv1` namespace."
   ]
  },
  {
   "cell_type": "code",
   "execution_count": null,
   "metadata": {
    "collapsed": false
   },
   "outputs": [],
   "source": [
    "#Get a count of VOEvents in the database\n",
    "apiv1.count()"
   ]
  },
  {
   "cell_type": "code",
   "execution_count": null,
   "metadata": {
    "collapsed": false
   },
   "outputs": [],
   "source": [
    "#List the IVORNs of the 2 VOEvents most recently inserted into the database\n",
    "apiv1.list_ivorn(order=OrderValues.id_desc,\n",
    "                 n_max=2)"
   ]
  },
  {
   "cell_type": "markdown",
   "metadata": {},
   "source": [
    "We can apply filters to all endpoints except those returning a single packet. If no filters are passed then the result-set is effectively the entire database. \n",
    "\n",
    "Filter-sets are defined as dictionaries:"
   ]
  },
  {
   "cell_type": "code",
   "execution_count": null,
   "metadata": {
    "collapsed": true
   },
   "outputs": [],
   "source": [
    "#Filter to only 'observation' packets authored since 2015/12/01.\n",
    "my_filters = {\n",
    "    FilterKeys.role:'observation', \n",
    "    FilterKeys.authored_since:datetime(2015,12,1,tzinfo=pytz.UTC),\n",
    "}"
   ]
  },
  {
   "cell_type": "code",
   "execution_count": null,
   "metadata": {
    "collapsed": false
   },
   "outputs": [],
   "source": [
    "#The `map_` endpoints return dictionaries summarising the matching result-set:\n",
    "apiv1.map_stream_count(filters=my_filters)"
   ]
  },
  {
   "cell_type": "code",
   "execution_count": null,
   "metadata": {
    "collapsed": false
   },
   "outputs": [],
   "source": [
    "#Get the IVORN of the most recently authored SWIFT GRB alert:\n",
    "my_filters = {\n",
    "    FilterKeys.role:'observation', \n",
    "    FilterKeys.ivorn_contains:'BAT_GRB', #case sensitive\n",
    "}\n",
    "\n",
    "swift_bat_grb_list = apiv1.list_ivorn(\n",
    "    filters=my_filters,\n",
    "    order=OrderValues.author_datetime_desc,\n",
    "    n_max=1\n",
    ")\n",
    "swift_bat_grb_ivorn = swift_bat_grb_list[0]\n",
    "swift_bat_grb_ivorn"
   ]
  },
  {
   "cell_type": "code",
   "execution_count": null,
   "metadata": {
    "collapsed": false
   },
   "outputs": [],
   "source": [
    "# Retrieve a 'synopsis' (nested dictionary) of the VOEvent packet,\n",
    "grb_nested_dict = apiv1.packet_synopsis(swift_bat_grb_ivorn)\n",
    "# And convert it to a user-friendly class-object:\n",
    "grb_synopsis = Synopsis(grb_nested_dict)\n",
    "print(grb_synopsis.ivorn)\n",
    "print(grb_synopsis.author_ivorn)\n",
    "print(grb_synopsis.author_datetime)\n",
    "print(grb_synopsis.sky_events)"
   ]
  },
  {
   "cell_type": "code",
   "execution_count": null,
   "metadata": {
    "collapsed": false
   },
   "outputs": [],
   "source": [
    "#Note that the associated event position has been parsed into\n",
    "# astropy.coordinates.SkyCoord format:\n",
    "sky_event=grb_synopsis.sky_events[0]\n",
    "sky_event.position"
   ]
  },
  {
   "cell_type": "code",
   "execution_count": null,
   "metadata": {
    "collapsed": false
   },
   "outputs": [],
   "source": [
    "#We can search for VOEvents with nearby co-ordinates:\n",
    "from astropy.coordinates import Angle\n",
    "my_filters = {\n",
    "    FilterKeys.role:'observation', \n",
    "    FilterKeys.cone: (sky_event.position, Angle(1.0, unit='deg'))\n",
    "    }\n",
    "apiv1.map_stream_count(my_filters)"
   ]
  },
  {
   "cell_type": "code",
   "execution_count": null,
   "metadata": {
    "collapsed": false
   },
   "outputs": [],
   "source": [
    "#Or retrieve the original XML for the packet:\n",
    "raw_xml = apiv1.packet_xml(swift_bat_grb_ivorn)\n",
    "print(raw_xml[:72])\n",
    "print(' ... ')\n"
   ]
  }
 ],
 "metadata": {
  "kernelspec": {
   "display_name": "Python 2",
   "language": "python",
   "name": "python2"
  },
  "language_info": {
   "codemirror_mode": {
    "name": "ipython",
    "version": 2
   },
   "file_extension": ".py",
   "mimetype": "text/x-python",
   "name": "python",
   "nbconvert_exporter": "python",
   "pygments_lexer": "ipython2",
   "version": "2.7.6"
  }
 },
 "nbformat": 4,
 "nbformat_minor": 0
}
