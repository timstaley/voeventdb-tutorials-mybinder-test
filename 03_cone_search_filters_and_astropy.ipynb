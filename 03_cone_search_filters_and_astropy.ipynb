{
 "cells": [
  {
   "cell_type": "markdown",
   "metadata": {},
   "source": [
    "By now, you should have some idea of how to explore the various ``voeventdb.remote`` endpoints and apply filters. \n",
    "\n",
    "** \n",
    "This notebook expands on the 'cone-search' filter, including how to use it with ``astropy.coordinates`` classes. \n",
    "**\n"
   ]
  },
  {
   "cell_type": "code",
   "execution_count": null,
   "metadata": {},
   "outputs": [],
   "source": [
    "from __future__ import print_function\n",
    "import logging\n",
    "logger = logging.getLogger()\n",
    "logger.setLevel(logging.DEBUG)"
   ]
  },
  {
   "cell_type": "code",
   "execution_count": null,
   "metadata": {},
   "outputs": [],
   "source": [
    "import voeventdb.remote as vr\n",
    "import voeventdb.remote.apiv1 as apiv1\n",
    "from voeventdb.remote.apiv1 import FilterKeys\n",
    "from voeventdb.remote.helpers import Synopsis\n",
    "from astropy.coordinates import Angle, SkyCoord"
   ]
  },
  {
   "cell_type": "markdown",
   "metadata": {},
   "source": [
    "In the last tutorial, we inspected a  *Swift* XRT event which gave us a position estimate and and error-circle. Let's grab those details again:"
   ]
  },
  {
   "cell_type": "code",
   "execution_count": null,
   "metadata": {},
   "outputs": [],
   "source": [
    "xrt_synopsis = Synopsis(apiv1.packet_synopsis('ivo://nasa.gsfc.gcn/SWIFT#XRT_Pos_666352-553'))"
   ]
  },
  {
   "cell_type": "code",
   "execution_count": null,
   "metadata": {},
   "outputs": [],
   "source": [
    "sky_event = xrt_synopsis.sky_events[0]\n",
    "print(sky_event)\n",
    "print(\"Error-circle radius in degrees, arcminutes and arcseconds:\", sky_event.position_error)"
   ]
  },
  {
   "cell_type": "markdown",
   "metadata": {},
   "source": [
    "## Filtering using a cone-search (AKA spatial queries)\n",
    "Next, let's see if there are any other recorded events with associated positions nearby. To do so, we'll need to define a 'cone', a sky-position and circle around it to search in. For setting up a ``voeventdb.remote`` cone-filter, we can use a tuple of type \n",
    "\n",
    "``(astropy.coordinates.SkyCoord, astropy.coordinates.Angle)``\n",
    "\n",
    "A natural candidate is the position and position-error from the XRT event; like so:"
   ]
  },
  {
   "cell_type": "code",
   "execution_count": null,
   "metadata": {},
   "outputs": [],
   "source": [
    "cone = (sky_event.position, sky_event.position_error)\n",
    "cone"
   ]
  },
  {
   "cell_type": "markdown",
   "metadata": {},
   "source": [
    "However, the XRT position has a really tight error-circle, about 5 arcseconds. Note that the cone-search will only return VOEvents with a *best-estimate position* within the cone - **it does not take into account overlapping error-circles** (at least for version 1!). This means that we could have a related event with a large error-circle, but which has a best-estimate position just outside the tiny XRT error-circle, and it wouldn't be returned - so we have to use some judgement here. We'll set the cone angular radius to half a degree, instead:"
   ]
  },
  {
   "cell_type": "code",
   "execution_count": null,
   "metadata": {},
   "outputs": [],
   "source": [
    "cone = (sky_event.position, Angle(0.5, unit='deg'))\n",
    "cone"
   ]
  },
  {
   "cell_type": "markdown",
   "metadata": {},
   "source": [
    "OK, let's see how that works:"
   ]
  },
  {
   "cell_type": "code",
   "execution_count": null,
   "metadata": {},
   "outputs": [],
   "source": [
    "cone_filters = {\n",
    "    FilterKeys.role: 'observation',\n",
    "    FilterKeys.cone: cone\n",
    "    }"
   ]
  },
  {
   "cell_type": "code",
   "execution_count": null,
   "metadata": {},
   "outputs": [],
   "source": [
    "apiv1.map_stream_count(cone_filters)"
   ]
  },
  {
   "cell_type": "markdown",
   "metadata": {},
   "source": [
    "A reasonable number. Let's take a look:"
   ]
  },
  {
   "cell_type": "code",
   "execution_count": null,
   "metadata": {},
   "outputs": [],
   "source": [
    "sorted(apiv1.list_ivorn(cone_filters))"
   ]
  },
  {
   "cell_type": "markdown",
   "metadata": {},
   "source": [
    "### Investigating 'background' event rates\n",
    "\n",
    "So, we have a bunch of *Swift* packets related to the same event (ID 666352), some 'BAT_SubSubThresh' events, and a 'Known_Pos' event. It's worth noting that 'SubSubThresh' events are extremely common and show up all over; in fact they currently make up about half the packets in the database:"
   ]
  },
  {
   "cell_type": "code",
   "execution_count": null,
   "metadata": {},
   "outputs": [],
   "source": [
    "all_events_count = apiv1.count(filters={FilterKeys.role:'observation'})\n",
    "ss_thresh_count = apiv1.count(filters={\n",
    "        FilterKeys.role:'observation', \n",
    "        FilterKeys.ivorn_contains:'BAT_SubSubThresh',\n",
    "        })\n",
    "print(\"Of {} observation packets in the database, {} are BAT_SubSubThresh packets\".format(\n",
    "        all_events_count, ss_thresh_count))"
   ]
  },
  {
   "cell_type": "markdown",
   "metadata": {},
   "source": [
    "So it's perhaps not surprising that we'd encounter a few of them co-incidentally lying in the search-cone.\n",
    "We can define a search-cone of the same radius at arbitrary co-ordinates and see what we get back, for comparison:"
   ]
  },
  {
   "cell_type": "code",
   "execution_count": null,
   "metadata": {},
   "outputs": [],
   "source": [
    "cone2 = (SkyCoord(ra=0, dec=35., unit='deg'), Angle(0.5, unit='deg'))\n",
    "cone2"
   ]
  },
  {
   "cell_type": "code",
   "execution_count": null,
   "metadata": {},
   "outputs": [],
   "source": [
    "cone2_filters = {\n",
    "    FilterKeys.role: 'observation',\n",
    "    FilterKeys.cone: cone2\n",
    "    }"
   ]
  },
  {
   "cell_type": "code",
   "execution_count": null,
   "metadata": {},
   "outputs": [],
   "source": [
    "apiv1.map_stream_count(filters=cone2_filters)"
   ]
  },
  {
   "cell_type": "code",
   "execution_count": null,
   "metadata": {},
   "outputs": [],
   "source": [
    "apiv1.list_ivorn(filters=cone2_filters)"
   ]
  },
  {
   "cell_type": "markdown",
   "metadata": {},
   "source": [
    "Result: looks like we get a similar number of these 'SubSubThresh' events wherever we point our search-cone!"
   ]
  },
  {
   "cell_type": "markdown",
   "metadata": {},
   "source": [
    "### Restricting the time-period to a 60-day window\n",
    "Fortunately, it's easy to narrow things down a bit further, *if* we expect related events to occur within a reasonably short time-interval. Let's modify our original filter-set a bit more:"
   ]
  },
  {
   "cell_type": "code",
   "execution_count": null,
   "metadata": {},
   "outputs": [],
   "source": [
    "from datetime import timedelta\n",
    "cone_filters[FilterKeys.authored_since] = sky_event.timestamp - timedelta(days=30)\n",
    "cone_filters[FilterKeys.authored_until] = sky_event.timestamp + timedelta(days=30)\n",
    "cone_filters"
   ]
  },
  {
   "cell_type": "code",
   "execution_count": null,
   "metadata": {},
   "outputs": [],
   "source": [
    "sorted(apiv1.list_ivorn(cone_filters))"
   ]
  },
  {
   "cell_type": "markdown",
   "metadata": {},
   "source": [
    "As a result of restricting our search to a window about the XRT-position timestamp, we've cut out all of those 'SubSubThresh' events that probably weren't related.\n",
    "\n",
    "## A note of warning\n",
    "What hasn't been mentioned so far is that **a query with a cone-search filter will only return VOEvents which contain a position** in the \n",
    "[``WhereWhen``](http://voevent.readthedocs.org/en/latest/reading.html#overall-structure)\n",
    "section of the packet. This sounds obvious, but on the other hand it's worth being reminded that some *related and interesting* VOEvents may not contain any position information.\n",
    "\n",
    "Most packets relating to follow-up or simultaneous observations of an event *will* contain position data, but we can imagine circumstances where this wouldn't apply, e.g. an all-sky high-energy gamma-ray detector without good localization.  Alternatively a VOEvent author may simply decide not to repeat co-ordinates that have been given in an earlier packet (perhaps when giving refined estimates about flux / lightcurve /  spectral index, etc), but instead rely on the **citation** mechanism - see the next notebook!"
   ]
  },
  {
   "cell_type": "markdown",
   "metadata": {},
   "source": [
    "## Coming next ...\n",
    "In the search above for packets near to a Swift XRT position, many of the packets were clearly designated as relating to the same event - they all had the same ID number. Is that relation encoded into the packet-data? Can we just select the VOEvents which are *already marked* as being related to a particular packet?\n",
    "\n",
    "The answer, of course, is yes - we make use of citation data."
   ]
  }
 ],
 "metadata": {
  "kernelspec": {
   "display_name": "Python 2",
   "language": "python",
   "name": "python2"
  },
  "language_info": {
   "codemirror_mode": {
    "name": "ipython",
    "version": 2.0
   },
   "file_extension": ".py",
   "mimetype": "text/x-python",
   "name": "python",
   "nbconvert_exporter": "python",
   "pygments_lexer": "ipython2",
   "version": "2.7.6"
  }
 },
 "nbformat": 4,
 "nbformat_minor": 0
}