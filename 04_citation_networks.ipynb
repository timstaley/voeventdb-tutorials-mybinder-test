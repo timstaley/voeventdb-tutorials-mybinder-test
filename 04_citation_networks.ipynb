{
 "cells": [
  {
   "cell_type": "markdown",
   "metadata": {},
   "source": [
    "In the previous notebook, we retrieved VOEvents related to a *Swift* XRT detection using the cone-search filter. A cone-search can bring to light new associations between VOEvents from different observatories, but we saw that it can also return unrelated events that just happen to lie nearby.\n",
    "\n",
    "**\n",
    "This notebook shows how to explore relations between VOEvents which are *already encoded by the packet author*, using the 'citation' mechanism.\n",
    "**\n",
    "\n",
    "It also includes a short example using `networkx` to visualise a citation-network.\n"
   ]
  },
  {
   "cell_type": "code",
   "execution_count": null,
   "metadata": {
    "collapsed": true
   },
   "outputs": [],
   "source": [
    "from __future__ import print_function"
   ]
  },
  {
   "cell_type": "code",
   "execution_count": null,
   "metadata": {
    "collapsed": true
   },
   "outputs": [],
   "source": [
    "import voeventdb.remote as vr\n",
    "import voeventdb.remote.apiv1 as apiv1\n",
    "from voeventdb.remote.apiv1 import FilterKeys\n",
    "from voeventdb.remote.helpers import Synopsis"
   ]
  },
  {
   "cell_type": "markdown",
   "metadata": {},
   "source": [
    "Once again, we'll retrieve a handy example VOEvent representing a *Swift* XRT detection of a GRB:"
   ]
  },
  {
   "cell_type": "code",
   "execution_count": null,
   "metadata": {
    "collapsed": true
   },
   "outputs": [],
   "source": [
    "xrt_synopsis = Synopsis(apiv1.packet_synopsis('ivo://nasa.gsfc.gcn/SWIFT#XRT_Pos_666352-553'))"
   ]
  },
  {
   "cell_type": "markdown",
   "metadata": {},
   "source": [
    "## References and citations\n",
    "\n",
    "### Note on terminology:\n",
    "In ``voeventdb``, we use the terms 'reference' and 'citation' in their precise bibliographic sense, i.e.\n",
    "**references are made** (*to* another packet), and **citations are received** (*from* other packets).\n",
    "\n",
    "### References made by a packet\n",
    "It's easy to inspect the references made by a packet - it's right there in the synopsis:"
   ]
  },
  {
   "cell_type": "code",
   "execution_count": null,
   "metadata": {
    "collapsed": false
   },
   "outputs": [],
   "source": [
    "print(\"This packet contains {} references.\".format(len(xrt_synopsis.references)))\n",
    "xrt_synopsis.references[0]"
   ]
  },
  {
   "cell_type": "markdown",
   "metadata": {},
   "source": [
    "### Citations received \n",
    "We can also check if this packet receives any citations. To do so, we search for *other* VOEvents which list it as a reference:"
   ]
  },
  {
   "cell_type": "code",
   "execution_count": null,
   "metadata": {
    "collapsed": false
   },
   "outputs": [],
   "source": [
    "my_filters = {FilterKeys.ref_exact:xrt_synopsis.ivorn}\n",
    "apiv1.list_ivorn(my_filters)"
   ]
  },
  {
   "cell_type": "markdown",
   "metadata": {},
   "source": [
    "Nope! No citations. But what about the original BAT trigger, the one referenced by the XRT VOEvent?"
   ]
  },
  {
   "cell_type": "code",
   "execution_count": null,
   "metadata": {
    "collapsed": false
   },
   "outputs": [],
   "source": [
    "my_filters = {FilterKeys.ref_exact:xrt_synopsis.references[0]['ref_ivorn']}\n",
    "citations_to_bat = apiv1.list_ivorn(my_filters)\n",
    "citations_to_bat"
   ]
  },
  {
   "cell_type": "markdown",
   "metadata": {},
   "source": [
    "### Number of citations received, batch version:\n",
    "Aha! So, the original BAT GRB trigger is the 'anchor reference' for all these other packets. Are any of them cited, in turn? There's a quick way to find out; we can use the ``ivorn_cited_count`` endpoint to get a citation count for all the packets matching our current filter set (for this example, we'll re-use the 'exact reference' filter):"
   ]
  },
  {
   "cell_type": "code",
   "execution_count": null,
   "metadata": {
    "collapsed": false
   },
   "outputs": [],
   "source": [
    "my_filters"
   ]
  },
  {
   "cell_type": "code",
   "execution_count": null,
   "metadata": {
    "collapsed": false
   },
   "outputs": [],
   "source": [
    "apiv1.list_ivorn_ncites(my_filters)"
   ]
  },
  {
   "cell_type": "markdown",
   "metadata": {},
   "source": [
    "Again, a big fat nope - they all have zero citations. \n",
    "\n",
    "### Party trick - network mapping\n",
    "So we have quite a boring citation network - several packets cite the BAT GRB position, then the trail ends. Nonetheless, we can use it to show off a party trick - ``voeventdb.remote`` contains an extra function that makes repeated calls to the server to perform a \n",
    "[depth-first search](https://en.wikipedia.org/wiki/Depth-first_search) (with configurable maximum recursion level) of the citation network:"
   ]
  },
  {
   "cell_type": "code",
   "execution_count": null,
   "metadata": {
    "collapsed": false
   },
   "outputs": [],
   "source": [
    "from voeventdb.remote.apiv1.convenience import citation_network_map\n",
    "cite_map = citation_network_map(xrt_synopsis.ivorn)"
   ]
  },
  {
   "cell_type": "code",
   "execution_count": null,
   "metadata": {
    "collapsed": false
   },
   "outputs": [],
   "source": [
    "cite_map"
   ]
  },
  {
   "cell_type": "markdown",
   "metadata": {},
   "source": [
    "If we use [matplotlib](http://matplotlib.org/) and [networkx](https://networkx.github.io/), we can even draw the citation map. You can see the 'BAT_GRB' packet with many edges, representing citations, leading out from it\n",
    "\n",
    "*(To do: More elaborate plots, with readable labels / colouring, etc. Contributions welcome!)*"
   ]
  },
  {
   "cell_type": "code",
   "execution_count": null,
   "metadata": {
    "collapsed": false
   },
   "outputs": [],
   "source": [
    "%matplotlib inline\n",
    "import networkx as nx\n",
    "G=nx.DiGraph()\n",
    "for ivorn in cite_map.keys():\n",
    "    G.add_node(ivorn)\n",
    "for origin_ivorn, citing_ivorns in cite_map.items():\n",
    "    for ci in citing_ivorns:\n",
    "        G.add_edge(ivorn,ci)\n",
    "nx.draw_networkx(G, arrows=True, with_labels=False)"
   ]
  }
 ],
 "metadata": {
  "kernelspec": {
   "display_name": "Python 2",
   "language": "python",
   "name": "python2"
  },
  "language_info": {
   "codemirror_mode": {
    "name": "ipython",
    "version": 2
   },
   "file_extension": ".py",
   "mimetype": "text/x-python",
   "name": "python",
   "nbconvert_exporter": "python",
   "pygments_lexer": "ipython2",
   "version": "2.7.6"
  }
 },
 "nbformat": 4,
 "nbformat_minor": 0
}